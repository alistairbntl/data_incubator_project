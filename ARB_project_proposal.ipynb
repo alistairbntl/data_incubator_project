{
 "cells": [
  {
   "cell_type": "markdown",
   "metadata": {},
   "source": [
    "# Data Science Project:  The economic vitality of South Carolina's three large metro areas#\n",
    "\n",
    "## Author: Alistair Bentley\n",
    "\n",
    "Between 2010 and 2018, the U.S. population grew by 5.8%.  In the three largest metro-areas of South Carolina - Greenville, Columbia and Charleston - the population grew by 18%, 8.2% and 9.8% respectively.  As a result of this rapid growth, the major metro areas within the State have experienced a rapid transformation in terms of their economic composition as well as the structure and composition of the metro areas.\n",
    "\n",
    "This project aims to measure how the rapid expansion of the state's economy has affected the socio-economic composition of the state's major metropolitan areas.  Specifically, using the most granular zip-code level data, I wish to identify which parts of the metro areas have experienced the most benefit, and which parts of the metro areas have flurished and which have lagged.  \n",
    "\n",
    "The results of this study should be of interest to businesses as well as state and local officials who have to implement policy to address the challenges and pressures of growing metro areas."
   ]
  },
  {
   "cell_type": "markdown",
   "metadata": {},
   "source": [
    "## Data:\n",
    "\n",
    "The data sources for this project include population data from the Census Bureau and the Bureau of Economic Analysis.  Specifically, I have drawn on the ACS and the economic data for metropolitan statistical areas.  The total data available through the ACS is enormous.  The subset of data I have been working with from the ACS (zip-code level data on demographics, economics, and housing) is roughly 10MB in size.\n",
    "\n",
    "The image below represents the counties that make up the Greenville (blue), Columbia (green) and Charleston (red) metropolitan areas.  These boundaries are selected to be consistent with the Census Bureau's metro-area definitions."
   ]
  },
  {
   "cell_type": "markdown",
   "metadata": {},
   "source": [
    "![sc_county_map.png](sc_county_map.png)"
   ]
  },
  {
   "cell_type": "code",
   "execution_count": 1,
   "metadata": {},
   "outputs": [],
   "source": [
    "%matplotlib inline\n",
    "import matplotlib\n",
    "import numpy as np\n",
    "import matplotlib.pyplot as plt"
   ]
  },
  {
   "cell_type": "code",
   "execution_count": 2,
   "metadata": {},
   "outputs": [
    {
     "data": {
      "image/png": "[encoded data removed]",
      "text/plain": [
       "<Figure size 432x288 with 1 Axes>"
      ]
     },
     "metadata": {
      "needs_background": "light"
     },
     "output_type": "display_data"
    }
   ],
   "source": [
    "n_groups = 6\n",
    "percents_greenville = (13.5,  21.5, 11.5, 7.8, 4.9, 3.8 )\n",
    "percents_columbia = (16.8,  11.9, 19.6, 7.7, 4.4, 3.2 )\n",
    "percents_charleston = (21.7,  10.1, 16.6, 7.3, 5.8, 5.4 )\n",
    "\n",
    "fig, ax = plt.subplots()\n",
    "index = np.arange(n_groups)\n",
    "bar_width = 0.35\n",
    "opacity = 0.6\n",
    "\n",
    "rects_green = plt.bar(index, percents_greenville, bar_width, alpha=opacity, color='b', label=\"greenville\")\n",
    "rects_colum = plt.bar(index+bar_width/2, percents_columbia, bar_width, alpha=opacity, color='g', label=\"columbia\")\n",
    "rects_charles = plt.bar(index+bar_width, percents_charleston, bar_width, alpha=opacity, color='r', label=\"charleston\")\n",
    "\n",
    "plt.xlabel('industry')\n",
    "plt.ylabel('percent of metro GDP')\n",
    "plt.title('Economic Composition of metro areas in South Carolina 2017')\n",
    "plt.xticks(index+bar_width, ('Fin',  'Manu', 'Gov', 'Edu', 'Enter','Const' ))\n",
    "plt.legend()\n",
    "\n",
    "plt.tight_layout()\n",
    "plt.show()"
   ]
  },
  {
   "cell_type": "markdown",
   "metadata": {},
   "source": [
    "## Background\n",
    "\n",
    "This first table highlights the composition of the economies of the three major metro areas in South Carolina.  This table suggests three important distinguishing features of each economy (i) Greenville is a major hub for manufacturing activity, (ii) the public sector comprises a significant share of Columbia's economy, and (iii) Charleston is characterized by a larger finance, hospitality, construction and tourism sector than either Greenville or Columbia."
   ]
  },
  {
   "cell_type": "markdown",
   "metadata": {},
   "source": [
    "## Methodology\n",
    "\n",
    "Once we have developed an overview of the economic composition of the metro areas, the next step is to develop a local measure of economic health.  Using the 5-year estimates of the American Community Survey for 2011 and 2017, I considered zip-code level data for all counties in the Greenville metropolitan area with a population larger than 10K people.\n",
    "\n",
    "The biggest challenge to developing a measure of economic health is the abundance set of avaiable demographic, economic and housing data available.  Indeed, the ACS tracks thousands of distinct but related indicators that could be of interest in assessing economic health.  Therefore, the key challenge is to find an effective way dimension reduction technique.\n",
    "\n",
    "To this end, I aggregated a collection of socio-economic indicators that can be associated with an area's economic health including - educational attainment levels, household incomes, and rental/home prices.  I then measured the change in these indicators between the two periods, standardized the results and constructed a single metric indicating an \n",
    "area's economic vitality during the period.\n",
    "\n",
    "The plot breaks these regions into three groups - bright red indicating the best performance, mild red indicating average performance and the light purple indicating underperformance."
   ]
  },
  {
   "cell_type": "markdown",
   "metadata": {},
   "source": [
    "![improvement_map.png](improvement_map.png)"
   ]
  },
  {
   "cell_type": "markdown",
   "metadata": {},
   "source": [
    "## Results\n",
    "\n",
    "The results of this map are encouraging.  At least anecdotally, the economic vitality indicator matches my local knowledge of the region closely.  Indeed, it suggests that the region of Greenville near the city center has experienced the most dramatic improvement over the last decade.  Furthermore, the areas lagging in development include areas due east and southwest of Greenville proper. Interestingly, in the westernmost part of the Greenville region, we do see several areas that have experienced vibrant growth, all of which exist close to Clemson University."
   ]
  },
  {
   "cell_type": "markdown",
   "metadata": {},
   "source": [
    "## Next Steps\n",
    "\n",
    "The results for Greenville county suggest that the methodology that I have employed is both feasible and reliable.  The next step will be to extend the results to the Columbia and Charleston metro areas using the same data sets and methodology.  This should yield some interesting results that can be tied together with the different economic compositions region.\n",
    "\n",
    "Furthermore, I plan to make the dimension reduction technique used to develop an economic vitality index more sophisticated.  Indeed, rather than developing a weighted index based on heuristics, I plan to use Principal Components Analysis to develop another vitality index.\n",
    "\n",
    "It would also be nice to find some better zip-code mapping software."
   ]
  }
 ],
 "metadata": {
  "kernelspec": {
   "display_name": "Python 2",
   "language": "python",
   "name": "python2"
  },
  "language_info": {
   "codemirror_mode": {
    "name": "ipython",
    "version": 3
   },
   "file_extension": ".py",
   "mimetype": "text/x-python",
   "name": "python",
   "nbconvert_exporter": "python",
   "pygments_lexer": "ipython3",
   "version": "3.7.3"
  }
 },
 "nbformat": 4,
 "nbformat_minor": 2
}
